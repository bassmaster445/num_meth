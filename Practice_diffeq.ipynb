{
 "cells": [
  {
   "cell_type": "code",
   "execution_count": 5,
   "id": "744e85b7-4404-46aa-9939-a29d6c1264c9",
   "metadata": {},
   "outputs": [
    {
     "name": "stderr",
     "output_type": "stream",
     "text": [
      "690.44s - pydevd: Sending message related to process being replaced timed-out after 5 seconds\n"
     ]
    },
    {
     "name": "stdout",
     "output_type": "stream",
     "text": [
      "Collecting matplotlib\n",
      "  Downloading matplotlib-3.10.3-cp312-cp312-macosx_11_0_arm64.whl.metadata (11 kB)\n",
      "Collecting contourpy>=1.0.1 (from matplotlib)\n",
      "  Downloading contourpy-1.3.2-cp312-cp312-macosx_11_0_arm64.whl.metadata (5.5 kB)\n",
      "Collecting cycler>=0.10 (from matplotlib)\n",
      "  Using cached cycler-0.12.1-py3-none-any.whl.metadata (3.8 kB)\n",
      "Collecting fonttools>=4.22.0 (from matplotlib)\n",
      "  Downloading fonttools-4.58.0-cp312-cp312-macosx_10_13_universal2.whl.metadata (104 kB)\n",
      "Collecting kiwisolver>=1.3.1 (from matplotlib)\n",
      "  Downloading kiwisolver-1.4.8-cp312-cp312-macosx_11_0_arm64.whl.metadata (6.2 kB)\n",
      "Requirement already satisfied: numpy>=1.23 in /Users/landenbass/miniconda3/lib/python3.12/site-packages (from matplotlib) (2.2.6)\n",
      "Requirement already satisfied: packaging>=20.0 in /Users/landenbass/miniconda3/lib/python3.12/site-packages (from matplotlib) (24.1)\n",
      "Collecting pillow>=8 (from matplotlib)\n",
      "  Downloading pillow-11.2.1-cp312-cp312-macosx_11_0_arm64.whl.metadata (8.9 kB)\n",
      "Collecting pyparsing>=2.3.1 (from matplotlib)\n",
      "  Downloading pyparsing-3.2.3-py3-none-any.whl.metadata (5.0 kB)\n",
      "Requirement already satisfied: python-dateutil>=2.7 in /Users/landenbass/miniconda3/lib/python3.12/site-packages (from matplotlib) (2.9.0.post0)\n",
      "Requirement already satisfied: six>=1.5 in /Users/landenbass/miniconda3/lib/python3.12/site-packages (from python-dateutil>=2.7->matplotlib) (1.17.0)\n",
      "Downloading matplotlib-3.10.3-cp312-cp312-macosx_11_0_arm64.whl (8.1 MB)\n",
      "\u001b[2K   \u001b[90m━━━━━━━━━━━━━━━━━━━━━━━━━━━━━━━━━━━━━━━━\u001b[0m \u001b[32m8.1/8.1 MB\u001b[0m \u001b[31m2.3 MB/s\u001b[0m eta \u001b[36m0:00:00\u001b[0ma \u001b[36m0:00:01\u001b[0m\n",
      "\u001b[?25hDownloading contourpy-1.3.2-cp312-cp312-macosx_11_0_arm64.whl (255 kB)\n",
      "Using cached cycler-0.12.1-py3-none-any.whl (8.3 kB)\n",
      "Downloading fonttools-4.58.0-cp312-cp312-macosx_10_13_universal2.whl (2.7 MB)\n",
      "\u001b[2K   \u001b[90m━━━━━━━━━━━━━━━━━━━━━━━━━━━━━━━━━━━━━━━━\u001b[0m \u001b[32m2.7/2.7 MB\u001b[0m \u001b[31m2.3 MB/s\u001b[0m eta \u001b[36m0:00:00\u001b[0ma \u001b[36m0:00:01\u001b[0m\n",
      "\u001b[?25hDownloading kiwisolver-1.4.8-cp312-cp312-macosx_11_0_arm64.whl (65 kB)\n",
      "Downloading pillow-11.2.1-cp312-cp312-macosx_11_0_arm64.whl (3.0 MB)\n",
      "\u001b[2K   \u001b[90m━━━━━━━━━━━━━━━━━━━━━━━━━━━━━━━━━━━━━━━━\u001b[0m \u001b[32m3.0/3.0 MB\u001b[0m \u001b[31m1.3 MB/s\u001b[0m eta \u001b[36m0:00:00\u001b[0ma \u001b[36m0:00:01\u001b[0m\n",
      "\u001b[?25hDownloading pyparsing-3.2.3-py3-none-any.whl (111 kB)\n",
      "Installing collected packages: pyparsing, pillow, kiwisolver, fonttools, cycler, contourpy, matplotlib\n",
      "Successfully installed contourpy-1.3.2 cycler-0.12.1 fonttools-4.58.0 kiwisolver-1.4.8 matplotlib-3.10.3 pillow-11.2.1 pyparsing-3.2.3\n"
     ]
    }
   ],
   "source": [
    "!pip install matplotlib"
   ]
  },
  {
   "cell_type": "code",
   "execution_count": 8,
   "id": "c598d8d5-b606-4ece-937b-1a97aeb078fc",
   "metadata": {},
   "outputs": [
    {
     "data": {
      "image/png": "[encoded data removed]",
      "text/plain": [
       "<Figure size 640x480 with 1 Axes>"
      ]
     },
     "metadata": {},
     "output_type": "display_data"
    }
   ],
   "source": [
    "import numpy as np\n",
    "import matplotlib.pyplot as plt\n",
    "import scipy as sp\n",
    "\n",
    "from scipy.integrate import odeint\n",
    "from scipy.integrate import solve_ivp\n",
    "\n",
    "def dvdt(t,v):\n",
    "    return 3*v**2-5\n",
    "v0 = 0\n",
    "t = np.linspace(0, 1, 100)\n",
    "\n",
    "# Using odeint\n",
    "sol_1 = odeint(dvdt, y0=v0, t=t, tfirst=True)\n",
    "\n",
    "# Using solve_ivp\n",
    "sol_2 = solve_ivp(dvdt, t_span=(0, max(t)), y0=[v0], t_eval=t)\n",
    "\n",
    "# Plotting\n",
    "plt.plot(t, sol_1, label='odeint')\n",
    "plt.plot(t, sol_2.y[0], label='solve_ivp', linestyle='--')\n",
    "plt.xlabel('t')\n",
    "plt.ylabel('v')\n",
    "plt.legend()\n",
    "plt.grid(True)\n",
    "plt.show()"
   ]
  },
  {
   "cell_type": "code",
   "execution_count": 9,
   "id": "64c4ebde-d79e-40cf-bc85-a85852954af2",
   "metadata": {},
   "outputs": [
    {
     "data": {
      "text/plain": [
       "array([[ 0.        ],\n",
       "       [-0.05047933],\n",
       "       [-0.10080451],\n",
       "       [-0.15082334],\n",
       "       [-0.20038726],\n",
       "       [-0.24935318],\n",
       "       [-0.29758502],\n",
       "       [-0.34495519],\n",
       "       [-0.39134576],\n",
       "       [-0.43664948],\n",
       "       [-0.48077056],\n",
       "       [-0.52362515],\n",
       "       [-0.56514164],\n",
       "       [-0.60526086],\n",
       "       [-0.6439356 ],\n",
       "       [-0.68113064],\n",
       "       [-0.71682205],\n",
       "       [-0.75099661],\n",
       "       [-0.78365109],\n",
       "       [-0.8147914 ],\n",
       "       [-0.84443176],\n",
       "       [-0.87259378],\n",
       "       [-0.89930556],\n",
       "       [-0.92460079],\n",
       "       [-0.94851787],\n",
       "       [-0.97109913],\n",
       "       [-0.99239002],\n",
       "       [-1.01243837],\n",
       "       [-1.03129376],\n",
       "       [-1.04900692],\n",
       "       [-1.06562918],\n",
       "       [-1.081212  ],\n",
       "       [-1.0958066 ],\n",
       "       [-1.10946355],\n",
       "       [-1.12223249],\n",
       "       [-1.13416195],\n",
       "       [-1.14529906],\n",
       "       [-1.15568941],\n",
       "       [-1.16537698],\n",
       "       [-1.17440397],\n",
       "       [-1.18281086],\n",
       "       [-1.19063623],\n",
       "       [-1.19791686],\n",
       "       [-1.20468768],\n",
       "       [-1.21098179],\n",
       "       [-1.21683053],\n",
       "       [-1.22226349],\n",
       "       [-1.22730856],\n",
       "       [-1.23199199],\n",
       "       [-1.23633849],\n",
       "       [-1.24037122],\n",
       "       [-1.24411192],\n",
       "       [-1.24758094],\n",
       "       [-1.25079735],\n",
       "       [-1.25377896],\n",
       "       [-1.25654241],\n",
       "       [-1.25910322],\n",
       "       [-1.2614759 ],\n",
       "       [-1.26367394],\n",
       "       [-1.26570992],\n",
       "       [-1.26759557],\n",
       "       [-1.26934179],\n",
       "       [-1.27095869],\n",
       "       [-1.27245574],\n",
       "       [-1.27384168],\n",
       "       [-1.27512464],\n",
       "       [-1.2763122 ],\n",
       "       [-1.27741137],\n",
       "       [-1.27842865],\n",
       "       [-1.27937009],\n",
       "       [-1.28024128],\n",
       "       [-1.28104744],\n",
       "       [-1.28179338],\n",
       "       [-1.28248356],\n",
       "       [-1.28312213],\n",
       "       [-1.28371292],\n",
       "       [-1.2842595 ],\n",
       "       [-1.28476514],\n",
       "       [-1.2852329 ],\n",
       "       [-1.28566562],\n",
       "       [-1.2860659 ],\n",
       "       [-1.28643616],\n",
       "       [-1.28677865],\n",
       "       [-1.28709545],\n",
       "       [-1.28738847],\n",
       "       [-1.28765951],\n",
       "       [-1.28791021],\n",
       "       [-1.28814208],\n",
       "       [-1.28835653],\n",
       "       [-1.28855487],\n",
       "       [-1.28873831],\n",
       "       [-1.28890797],\n",
       "       [-1.28906488],\n",
       "       [-1.28920999],\n",
       "       [-1.2893442 ],\n",
       "       [-1.28946833],\n",
       "       [-1.28958312],\n",
       "       [-1.28968929],\n",
       "       [-1.28978746],\n",
       "       [-1.28987826]])"
      ]
     },
     "execution_count": 9,
     "metadata": {},
     "output_type": "execute_result"
    }
   ],
   "source": [
    " sol_1"
   ]
  },
  {
   "cell_type": "code",
   "execution_count": 10,
   "id": "ce9b8715-1aef-4815-99a1-5ada198c8a3e",
   "metadata": {},
   "outputs": [
    {
     "data": {
      "text/plain": [
       "  message: The solver successfully reached the end of the integration interval.\n",
       "  success: True\n",
       "   status: 0\n",
       "        t: [ 0.000e+00  1.010e-02 ...  9.899e-01  1.000e+00]\n",
       "        y: [[ 0.000e+00 -5.048e-02 ... -1.290e+00 -1.290e+00]]\n",
       "      sol: None\n",
       " t_events: None\n",
       " y_events: None\n",
       "     nfev: 68\n",
       "     njev: 0\n",
       "      nlu: 0"
      ]
     },
     "execution_count": 10,
     "metadata": {},
     "output_type": "execute_result"
    }
   ],
   "source": [
    "sol_2"
   ]
  },
  {
   "cell_type": "code",
   "execution_count": null,
   "id": "2c77ccb1-b625-44e7-bb7a-e9987ee1b25d",
   "metadata": {},
   "outputs": [],
   "source": []
  }
 ],
 "metadata": {
  "kernelspec": {
   "display_name": "Python 3 (ipykernel)",
   "language": "python",
   "name": "python3"
  },
  "language_info": {
   "codemirror_mode": {
    "name": "ipython",
    "version": 3
   },
   "file_extension": ".py",
   "mimetype": "text/x-python",
   "name": "python",
   "nbconvert_exporter": "python",
   "pygments_lexer": "ipython3",
   "version": "3.12.8"
  }
 },
 "nbformat": 4,
 "nbformat_minor": 5
}
